{
 "cells": [
  {
   "cell_type": "code",
   "execution_count": 3,
   "metadata": {
    "collapsed": true
   },
   "outputs": [],
   "source": [
    "import pandas as pd\n",
    "import numpy as np\n",
    "import re\n",
    "from datetime import datetime"
   ]
  },
  {
   "cell_type": "code",
   "execution_count": 4,
   "metadata": {
    "collapsed": true
   },
   "outputs": [],
   "source": [
    "wd = pd.read_csv('/Users/reginakhabirova/Downloads/data.csv')"
   ]
  },
  {
   "cell_type": "code",
   "execution_count": 10,
   "metadata": {
    "scrolled": true
   },
   "outputs": [
    {
     "name": "stdout",
     "output_type": "stream",
     "text": [
      "<class 'pandas.core.frame.DataFrame'>\n",
      "RangeIndex: 1890 entries, 0 to 1889\n",
      "Data columns (total 18 columns):\n",
      "imdb_id                 1890 non-null object\n",
      "popularity              1890 non-null float64\n",
      "budget                  1890 non-null int64\n",
      "revenue                 1890 non-null int64\n",
      "original_title          1890 non-null object\n",
      "cast                    1890 non-null object\n",
      "director                1890 non-null object\n",
      "tagline                 1890 non-null object\n",
      "overview                1890 non-null object\n",
      "runtime                 1890 non-null int64\n",
      "genres                  1890 non-null object\n",
      "production_companies    1890 non-null object\n",
      "release_date            1890 non-null object\n",
      "vote_count              1890 non-null int64\n",
      "vote_average            1890 non-null float64\n",
      "release_year            1890 non-null int64\n",
      "profit                  1890 non-null int64\n",
      "month                   1890 non-null int64\n",
      "dtypes: float64(2), int64(7), object(9)\n",
      "memory usage: 265.9+ KB\n"
     ]
    },
    {
     "data": {
      "text/plain": [
       "None"
      ]
     },
     "metadata": {},
     "output_type": "display_data"
    }
   ],
   "source": [
    "display(wd.info())"
   ]
  },
  {
   "cell_type": "markdown",
   "metadata": {},
   "source": [
    "#### 3. Какой из фильмов самый короткий (в минутах)?"
   ]
  },
  {
   "cell_type": "code",
   "execution_count": 19,
   "metadata": {
    "scrolled": true
   },
   "outputs": [
    {
     "data": {
      "text/html": [
       "<div>\n",
       "<style>\n",
       "    .dataframe thead tr:only-child th {\n",
       "        text-align: right;\n",
       "    }\n",
       "\n",
       "    .dataframe thead th {\n",
       "        text-align: left;\n",
       "    }\n",
       "\n",
       "    .dataframe tbody tr th {\n",
       "        vertical-align: top;\n",
       "    }\n",
       "</style>\n",
       "<table border=\"1\" class=\"dataframe\">\n",
       "  <thead>\n",
       "    <tr style=\"text-align: right;\">\n",
       "      <th></th>\n",
       "      <th>imdb_id</th>\n",
       "      <th>popularity</th>\n",
       "      <th>budget</th>\n",
       "      <th>revenue</th>\n",
       "      <th>original_title</th>\n",
       "      <th>cast</th>\n",
       "      <th>director</th>\n",
       "      <th>tagline</th>\n",
       "      <th>overview</th>\n",
       "      <th>runtime</th>\n",
       "      <th>genres</th>\n",
       "      <th>production_companies</th>\n",
       "      <th>release_date</th>\n",
       "      <th>vote_count</th>\n",
       "      <th>vote_average</th>\n",
       "      <th>release_year</th>\n",
       "    </tr>\n",
       "  </thead>\n",
       "  <tbody>\n",
       "    <tr>\n",
       "      <th>769</th>\n",
       "      <td>tt1449283</td>\n",
       "      <td>1.425344</td>\n",
       "      <td>30000000</td>\n",
       "      <td>14460000</td>\n",
       "      <td>Winnie the Pooh</td>\n",
       "      <td>Jim Cummings|Travis Oates|Jim Cummings|Bud Luc...</td>\n",
       "      <td>Stephen Anderson|Don Hall</td>\n",
       "      <td>Oh Pooh.</td>\n",
       "      <td>During an ordinary day in Hundred Acre Wood, W...</td>\n",
       "      <td>63</td>\n",
       "      <td>Animation|Family</td>\n",
       "      <td>Walt Disney Pictures|Walt Disney Animation Stu...</td>\n",
       "      <td>4/13/2011</td>\n",
       "      <td>174</td>\n",
       "      <td>6.8</td>\n",
       "      <td>2011</td>\n",
       "    </tr>\n",
       "  </tbody>\n",
       "</table>\n",
       "</div>"
      ],
      "text/plain": [
       "       imdb_id  popularity    budget   revenue   original_title  \\\n",
       "769  tt1449283    1.425344  30000000  14460000  Winnie the Pooh   \n",
       "\n",
       "                                                  cast  \\\n",
       "769  Jim Cummings|Travis Oates|Jim Cummings|Bud Luc...   \n",
       "\n",
       "                      director   tagline  \\\n",
       "769  Stephen Anderson|Don Hall  Oh Pooh.   \n",
       "\n",
       "                                              overview  runtime  \\\n",
       "769  During an ordinary day in Hundred Acre Wood, W...       63   \n",
       "\n",
       "               genres                               production_companies  \\\n",
       "769  Animation|Family  Walt Disney Pictures|Walt Disney Animation Stu...   \n",
       "\n",
       "    release_date  vote_count  vote_average  release_year  \n",
       "769    4/13/2011         174           6.8          2011  "
      ]
     },
     "execution_count": 19,
     "metadata": {},
     "output_type": "execute_result"
    }
   ],
   "source": [
    "wd[wd['runtime'] == wd['runtime'].min()]"
   ]
  },
  {
   "cell_type": "markdown",
   "metadata": {},
   "source": [
    "#### 4. Какое число ближе к средней длительности фильма в датасете?"
   ]
  },
  {
   "cell_type": "code",
   "execution_count": 214,
   "metadata": {},
   "outputs": [
    {
     "data": {
      "text/plain": [
       "109.65343915343915"
      ]
     },
     "execution_count": 214,
     "metadata": {},
     "output_type": "execute_result"
    }
   ],
   "source": [
    "wd['runtime'].mean()"
   ]
  },
  {
   "cell_type": "markdown",
   "metadata": {},
   "source": [
    "#### 5. Какое число ближе к медианной длительности фильма в датасете?"
   ]
  },
  {
   "cell_type": "code",
   "execution_count": 23,
   "metadata": {},
   "outputs": [
    {
     "data": {
      "text/plain": [
       "106.5"
      ]
     },
     "execution_count": 23,
     "metadata": {},
     "output_type": "execute_result"
    }
   ],
   "source": [
    "wd['runtime'].median()"
   ]
  },
  {
   "cell_type": "markdown",
   "metadata": {},
   "source": [
    "#### 6. Какой самый прибыльный фильм?"
   ]
  },
  {
   "cell_type": "code",
   "execution_count": 7,
   "metadata": {},
   "outputs": [
    {
     "data": {
      "text/html": [
       "<div>\n",
       "<style>\n",
       "    .dataframe thead tr:only-child th {\n",
       "        text-align: right;\n",
       "    }\n",
       "\n",
       "    .dataframe thead th {\n",
       "        text-align: left;\n",
       "    }\n",
       "\n",
       "    .dataframe tbody tr th {\n",
       "        vertical-align: top;\n",
       "    }\n",
       "</style>\n",
       "<table border=\"1\" class=\"dataframe\">\n",
       "  <thead>\n",
       "    <tr style=\"text-align: right;\">\n",
       "      <th></th>\n",
       "      <th>imdb_id</th>\n",
       "      <th>popularity</th>\n",
       "      <th>budget</th>\n",
       "      <th>revenue</th>\n",
       "      <th>original_title</th>\n",
       "      <th>cast</th>\n",
       "      <th>director</th>\n",
       "      <th>tagline</th>\n",
       "      <th>overview</th>\n",
       "      <th>runtime</th>\n",
       "      <th>genres</th>\n",
       "      <th>production_companies</th>\n",
       "      <th>release_date</th>\n",
       "      <th>vote_count</th>\n",
       "      <th>vote_average</th>\n",
       "      <th>release_year</th>\n",
       "      <th>profit</th>\n",
       "    </tr>\n",
       "  </thead>\n",
       "  <tbody>\n",
       "    <tr>\n",
       "      <th>239</th>\n",
       "      <td>tt0499549</td>\n",
       "      <td>9.432768</td>\n",
       "      <td>237000000</td>\n",
       "      <td>2781505847</td>\n",
       "      <td>Avatar</td>\n",
       "      <td>Sam Worthington|Zoe Saldana|Sigourney Weaver|S...</td>\n",
       "      <td>James Cameron</td>\n",
       "      <td>Enter the World of Pandora.</td>\n",
       "      <td>In the 22nd century, a paraplegic Marine is di...</td>\n",
       "      <td>162</td>\n",
       "      <td>Action|Adventure|Fantasy|Science Fiction</td>\n",
       "      <td>Ingenious Film Partners|Twentieth Century Fox ...</td>\n",
       "      <td>12/10/2009</td>\n",
       "      <td>8458</td>\n",
       "      <td>7.1</td>\n",
       "      <td>2009</td>\n",
       "      <td>2544505847</td>\n",
       "    </tr>\n",
       "  </tbody>\n",
       "</table>\n",
       "</div>"
      ],
      "text/plain": [
       "       imdb_id  popularity     budget     revenue original_title  \\\n",
       "239  tt0499549    9.432768  237000000  2781505847         Avatar   \n",
       "\n",
       "                                                  cast       director  \\\n",
       "239  Sam Worthington|Zoe Saldana|Sigourney Weaver|S...  James Cameron   \n",
       "\n",
       "                         tagline  \\\n",
       "239  Enter the World of Pandora.   \n",
       "\n",
       "                                              overview  runtime  \\\n",
       "239  In the 22nd century, a paraplegic Marine is di...      162   \n",
       "\n",
       "                                       genres  \\\n",
       "239  Action|Adventure|Fantasy|Science Fiction   \n",
       "\n",
       "                                  production_companies release_date  \\\n",
       "239  Ingenious Film Partners|Twentieth Century Fox ...   12/10/2009   \n",
       "\n",
       "     vote_count  vote_average  release_year      profit  \n",
       "239        8458           7.1          2009  2544505847  "
      ]
     },
     "execution_count": 7,
     "metadata": {},
     "output_type": "execute_result"
    }
   ],
   "source": [
    "wd['profit'] = wd['revenue'] - wd['budget']\n",
    "wd[wd['profit'] == wd['profit'].max()]"
   ]
  },
  {
   "cell_type": "markdown",
   "metadata": {},
   "source": [
    "#### 7. Какой фильм самый убыточный?"
   ]
  },
  {
   "cell_type": "code",
   "execution_count": 97,
   "metadata": {},
   "outputs": [
    {
     "data": {
      "text/html": [
       "<div>\n",
       "<style>\n",
       "    .dataframe thead tr:only-child th {\n",
       "        text-align: right;\n",
       "    }\n",
       "\n",
       "    .dataframe thead th {\n",
       "        text-align: left;\n",
       "    }\n",
       "\n",
       "    .dataframe tbody tr th {\n",
       "        vertical-align: top;\n",
       "    }\n",
       "</style>\n",
       "<table border=\"1\" class=\"dataframe\">\n",
       "  <thead>\n",
       "    <tr style=\"text-align: right;\">\n",
       "      <th></th>\n",
       "      <th>imdb_id</th>\n",
       "      <th>popularity</th>\n",
       "      <th>budget</th>\n",
       "      <th>revenue</th>\n",
       "      <th>original_title</th>\n",
       "      <th>cast</th>\n",
       "      <th>director</th>\n",
       "      <th>tagline</th>\n",
       "      <th>overview</th>\n",
       "      <th>runtime</th>\n",
       "      <th>genres</th>\n",
       "      <th>production_companies</th>\n",
       "      <th>release_date</th>\n",
       "      <th>vote_count</th>\n",
       "      <th>vote_average</th>\n",
       "      <th>release_year</th>\n",
       "      <th>profit</th>\n",
       "      <th>month</th>\n",
       "      <th>length_title</th>\n",
       "    </tr>\n",
       "  </thead>\n",
       "  <tbody>\n",
       "    <tr>\n",
       "      <th>491</th>\n",
       "      <td>tt1032751</td>\n",
       "      <td>0.25054</td>\n",
       "      <td>425000000</td>\n",
       "      <td>11087569</td>\n",
       "      <td>The Warrior's Way</td>\n",
       "      <td>Kate Bosworth|Jang Dong-gun|Geoffrey Rush|Dann...</td>\n",
       "      <td>Sngmoo Lee</td>\n",
       "      <td>Assassin. Hero. Legend.</td>\n",
       "      <td>An Asian assassin (Dong-gun Jang) is forced to...</td>\n",
       "      <td>100</td>\n",
       "      <td>Adventure|Fantasy|Action|Western|Thriller</td>\n",
       "      <td>Boram Entertainment Inc.</td>\n",
       "      <td>12/2/2010</td>\n",
       "      <td>74</td>\n",
       "      <td>6.4</td>\n",
       "      <td>2010</td>\n",
       "      <td>-413912431</td>\n",
       "      <td>12</td>\n",
       "      <td>17</td>\n",
       "    </tr>\n",
       "  </tbody>\n",
       "</table>\n",
       "</div>"
      ],
      "text/plain": [
       "       imdb_id  popularity     budget   revenue     original_title  \\\n",
       "491  tt1032751     0.25054  425000000  11087569  The Warrior's Way   \n",
       "\n",
       "                                                  cast    director  \\\n",
       "491  Kate Bosworth|Jang Dong-gun|Geoffrey Rush|Dann...  Sngmoo Lee   \n",
       "\n",
       "                     tagline  \\\n",
       "491  Assassin. Hero. Legend.   \n",
       "\n",
       "                                              overview  runtime  \\\n",
       "491  An Asian assassin (Dong-gun Jang) is forced to...      100   \n",
       "\n",
       "                                        genres      production_companies  \\\n",
       "491  Adventure|Fantasy|Action|Western|Thriller  Boram Entertainment Inc.   \n",
       "\n",
       "    release_date  vote_count  vote_average  release_year     profit  month  \\\n",
       "491    12/2/2010          74           6.4          2010 -413912431     12   \n",
       "\n",
       "     length_title  \n",
       "491            17  "
      ]
     },
     "execution_count": 97,
     "metadata": {},
     "output_type": "execute_result"
    }
   ],
   "source": [
    "wd['profit'] = wd['revenue'] - wd['budget']\n",
    "wd[wd['profit'] == wd['profit'].min()]"
   ]
  },
  {
   "cell_type": "markdown",
   "metadata": {},
   "source": [
    "#### 8. У скольких фильмов из датасета объем сборов оказался выше бюджета?"
   ]
  },
  {
   "cell_type": "code",
   "execution_count": 216,
   "metadata": {},
   "outputs": [
    {
     "data": {
      "text/plain": [
       "1478"
      ]
     },
     "execution_count": 216,
     "metadata": {},
     "output_type": "execute_result"
    }
   ],
   "source": [
    "a = wd[wd['revenue']>wd['budget']]\n",
    "len(a)"
   ]
  },
  {
   "cell_type": "markdown",
   "metadata": {},
   "source": [
    "#### 9. Какой фильм оказался самым кассовым в 2008 году?"
   ]
  },
  {
   "cell_type": "code",
   "execution_count": 22,
   "metadata": {},
   "outputs": [
    {
     "data": {
      "text/html": [
       "<div>\n",
       "<style>\n",
       "    .dataframe thead tr:only-child th {\n",
       "        text-align: right;\n",
       "    }\n",
       "\n",
       "    .dataframe thead th {\n",
       "        text-align: left;\n",
       "    }\n",
       "\n",
       "    .dataframe tbody tr th {\n",
       "        vertical-align: top;\n",
       "    }\n",
       "</style>\n",
       "<table border=\"1\" class=\"dataframe\">\n",
       "  <thead>\n",
       "    <tr style=\"text-align: right;\">\n",
       "      <th></th>\n",
       "      <th>imdb_id</th>\n",
       "      <th>popularity</th>\n",
       "      <th>budget</th>\n",
       "      <th>revenue</th>\n",
       "      <th>original_title</th>\n",
       "      <th>cast</th>\n",
       "      <th>director</th>\n",
       "      <th>tagline</th>\n",
       "      <th>overview</th>\n",
       "      <th>runtime</th>\n",
       "      <th>genres</th>\n",
       "      <th>production_companies</th>\n",
       "      <th>release_date</th>\n",
       "      <th>vote_count</th>\n",
       "      <th>vote_average</th>\n",
       "      <th>release_year</th>\n",
       "      <th>profit</th>\n",
       "    </tr>\n",
       "  </thead>\n",
       "  <tbody>\n",
       "    <tr>\n",
       "      <th>600</th>\n",
       "      <td>tt0468569</td>\n",
       "      <td>8.466668</td>\n",
       "      <td>185000000</td>\n",
       "      <td>1001921825</td>\n",
       "      <td>The Dark Knight</td>\n",
       "      <td>Christian Bale|Michael Caine|Heath Ledger|Aaro...</td>\n",
       "      <td>Christopher Nolan</td>\n",
       "      <td>Why So Serious?</td>\n",
       "      <td>Batman raises the stakes in his war on crime. ...</td>\n",
       "      <td>152</td>\n",
       "      <td>Drama|Action|Crime|Thriller</td>\n",
       "      <td>DC Comics|Legendary Pictures|Warner Bros.|Syncopy</td>\n",
       "      <td>7/16/2008</td>\n",
       "      <td>8432</td>\n",
       "      <td>8.1</td>\n",
       "      <td>2008</td>\n",
       "      <td>816921825</td>\n",
       "    </tr>\n",
       "  </tbody>\n",
       "</table>\n",
       "</div>"
      ],
      "text/plain": [
       "       imdb_id  popularity     budget     revenue   original_title  \\\n",
       "600  tt0468569    8.466668  185000000  1001921825  The Dark Knight   \n",
       "\n",
       "                                                  cast           director  \\\n",
       "600  Christian Bale|Michael Caine|Heath Ledger|Aaro...  Christopher Nolan   \n",
       "\n",
       "             tagline                                           overview  \\\n",
       "600  Why So Serious?  Batman raises the stakes in his war on crime. ...   \n",
       "\n",
       "     runtime                       genres  \\\n",
       "600      152  Drama|Action|Crime|Thriller   \n",
       "\n",
       "                                  production_companies release_date  \\\n",
       "600  DC Comics|Legendary Pictures|Warner Bros.|Syncopy    7/16/2008   \n",
       "\n",
       "     vote_count  vote_average  release_year     profit  \n",
       "600        8432           8.1          2008  816921825  "
      ]
     },
     "execution_count": 22,
     "metadata": {},
     "output_type": "execute_result"
    }
   ],
   "source": [
    "wd_2008 = wd[wd['release_year'] == 2008]\n",
    "wd_2008[wd_2008['revenue'] == wd_2008['revenue'].max()]"
   ]
  },
  {
   "cell_type": "markdown",
   "metadata": {},
   "source": [
    "#### 10. Самый убыточный фильм за период с 2012 по 2014 гг. (включительно)?"
   ]
  },
  {
   "cell_type": "code",
   "execution_count": 221,
   "metadata": {},
   "outputs": [
    {
     "data": {
      "text/html": [
       "<div>\n",
       "<style>\n",
       "    .dataframe thead tr:only-child th {\n",
       "        text-align: right;\n",
       "    }\n",
       "\n",
       "    .dataframe thead th {\n",
       "        text-align: left;\n",
       "    }\n",
       "\n",
       "    .dataframe tbody tr th {\n",
       "        vertical-align: top;\n",
       "    }\n",
       "</style>\n",
       "<table border=\"1\" class=\"dataframe\">\n",
       "  <thead>\n",
       "    <tr style=\"text-align: right;\">\n",
       "      <th></th>\n",
       "      <th>imdb_id</th>\n",
       "      <th>popularity</th>\n",
       "      <th>budget</th>\n",
       "      <th>revenue</th>\n",
       "      <th>original_title</th>\n",
       "      <th>cast</th>\n",
       "      <th>director</th>\n",
       "      <th>tagline</th>\n",
       "      <th>overview</th>\n",
       "      <th>runtime</th>\n",
       "      <th>genres</th>\n",
       "      <th>production_companies</th>\n",
       "      <th>release_date</th>\n",
       "      <th>vote_count</th>\n",
       "      <th>vote_average</th>\n",
       "      <th>release_year</th>\n",
       "      <th>profit</th>\n",
       "    </tr>\n",
       "  </thead>\n",
       "  <tbody>\n",
       "    <tr>\n",
       "      <th>1246</th>\n",
       "      <td>tt1210819</td>\n",
       "      <td>1.21451</td>\n",
       "      <td>255000000</td>\n",
       "      <td>89289910</td>\n",
       "      <td>The Lone Ranger</td>\n",
       "      <td>Johnny Depp|Armie Hammer|William Fichtner|Hele...</td>\n",
       "      <td>Gore Verbinski</td>\n",
       "      <td>Never Take Off the Mask</td>\n",
       "      <td>The Texas Rangers chase down a gang of outlaws...</td>\n",
       "      <td>149</td>\n",
       "      <td>Action|Adventure|Western</td>\n",
       "      <td>Walt Disney Pictures|Jerry Bruckheimer Films|I...</td>\n",
       "      <td>7/3/2013</td>\n",
       "      <td>1607</td>\n",
       "      <td>6.0</td>\n",
       "      <td>2013</td>\n",
       "      <td>-165710090</td>\n",
       "    </tr>\n",
       "  </tbody>\n",
       "</table>\n",
       "</div>"
      ],
      "text/plain": [
       "        imdb_id  popularity     budget   revenue   original_title  \\\n",
       "1246  tt1210819     1.21451  255000000  89289910  The Lone Ranger   \n",
       "\n",
       "                                                   cast        director  \\\n",
       "1246  Johnny Depp|Armie Hammer|William Fichtner|Hele...  Gore Verbinski   \n",
       "\n",
       "                      tagline  \\\n",
       "1246  Never Take Off the Mask   \n",
       "\n",
       "                                               overview  runtime  \\\n",
       "1246  The Texas Rangers chase down a gang of outlaws...      149   \n",
       "\n",
       "                        genres  \\\n",
       "1246  Action|Adventure|Western   \n",
       "\n",
       "                                   production_companies release_date  \\\n",
       "1246  Walt Disney Pictures|Jerry Bruckheimer Films|I...     7/3/2013   \n",
       "\n",
       "      vote_count  vote_average  release_year     profit  \n",
       "1246        1607           6.0          2013 -165710090  "
      ]
     },
     "execution_count": 221,
     "metadata": {},
     "output_type": "execute_result"
    }
   ],
   "source": [
    "wd_2014 = wd[(wd['release_year'] >= 2012) & (wd['release_year'] <= 2014)]\n",
    "wd_2014[wd_2014['profit'] == wd_2014['profit'].min()]"
   ]
  },
  {
   "cell_type": "markdown",
   "metadata": {},
   "source": [
    "#### 11. Какого жанра фильмов больше всего?"
   ]
  },
  {
   "cell_type": "code",
   "execution_count": 191,
   "metadata": {},
   "outputs": [
    {
     "data": {
      "text/plain": [
       "[('Drama', 782)]"
      ]
     },
     "execution_count": 191,
     "metadata": {},
     "output_type": "execute_result"
    }
   ],
   "source": [
    "genres_all = wd['genres'].str.split('|')\n",
    "\n",
    "a = []\n",
    "for i in range(len(genres_all)):\n",
    "    for j in range(len(genres_all[i])):\n",
    "        a.append(genres_all[i][j])\n",
    "        \n",
    "res = Counter(a).most_common(1)\n",
    "res        \n"
   ]
  },
  {
   "cell_type": "markdown",
   "metadata": {},
   "source": [
    "#### 12. Какого жанра среди прибыльных фильмов больше всего?"
   ]
  },
  {
   "cell_type": "code",
   "execution_count": 225,
   "metadata": {},
   "outputs": [
    {
     "data": {
      "text/plain": [
       "[('Drama', 560)]"
      ]
     },
     "execution_count": 225,
     "metadata": {},
     "output_type": "execute_result"
    }
   ],
   "source": [
    "gg = wd[wd['profit']>0]['genres'].str.split('|')\n",
    "\n",
    "a = []\n",
    "for i in range(len(gg)):\n",
    "    for j in range(len(gg.iloc[i])):\n",
    "        a.append(gg.iloc[i][j])\n",
    "        \n",
    "res = Counter(a).most_common(1)\n",
    "res        "
   ]
  },
  {
   "cell_type": "markdown",
   "metadata": {},
   "source": [
    "#### 13. Кто из режиссеров снял больше всего фильмов?"
   ]
  },
  {
   "cell_type": "code",
   "execution_count": 8,
   "metadata": {},
   "outputs": [
    {
     "data": {
      "text/plain": [
       "[('Steven Soderbergh', 13)]"
      ]
     },
     "execution_count": 8,
     "metadata": {},
     "output_type": "execute_result"
    }
   ],
   "source": [
    "from collections import Counter\n",
    "\n",
    "director = wd['director'].str.split('|')\n",
    "a = []\n",
    "for i in range(len(director)):\n",
    "    for j in range(len(director[i])):\n",
    "        a.append(director[i][j])\n",
    "        \n",
    "res = Counter(a).most_common(1)\n",
    "res "
   ]
  },
  {
   "cell_type": "markdown",
   "metadata": {},
   "source": [
    "#### 14. Кто из режиссеров снял больше всего прибыльных фильмов?"
   ]
  },
  {
   "cell_type": "code",
   "execution_count": 9,
   "metadata": {},
   "outputs": [
    {
     "data": {
      "text/plain": [
       "[('Ridley Scott', 12)]"
      ]
     },
     "execution_count": 9,
     "metadata": {},
     "output_type": "execute_result"
    }
   ],
   "source": [
    "pd = wd[wd['profit']>0]['director'].str.split('|')\n",
    "\n",
    "x = []\n",
    "for i in range(len(pd)):\n",
    "    for j in range(len(pd.iloc[i])):\n",
    "        x.append(pd.iloc[i][j]) \n",
    "        \n",
    "x_res = Counter(x).most_common(1)\n",
    "x_res        "
   ]
  },
  {
   "cell_type": "markdown",
   "metadata": {},
   "source": [
    "#### 15. Кто из режиссеров принес больше всего прибыли?"
   ]
  },
  {
   "cell_type": "code",
   "execution_count": 10,
   "metadata": {},
   "outputs": [
    {
     "data": {
      "text/plain": [
       "director\n",
       "Peter Jackson    5202593685\n",
       "Name: profit, dtype: int64"
      ]
     },
     "execution_count": 10,
     "metadata": {},
     "output_type": "execute_result"
    }
   ],
   "source": [
    "grouped_wd = wd.groupby(['director'])['profit'].sum().sort_values(ascending=False)\n",
    "grouped_wd.head(1)"
   ]
  },
  {
   "cell_type": "markdown",
   "metadata": {},
   "source": [
    "#### 16. Какой актер принес больше всего прибыли?"
   ]
  },
  {
   "cell_type": "code",
   "execution_count": 11,
   "metadata": {
    "collapsed": true
   },
   "outputs": [],
   "source": [
    "from collections import Counter\n",
    "\n",
    "actors = Counter()\n",
    "\n",
    "for i, x in enumerate(wd['cast'].str.split('|')):\n",
    "    for actor in x:\n",
    "        actors[actor] += wd.loc[i]['revenue']"
   ]
  },
  {
   "cell_type": "code",
   "execution_count": 17,
   "metadata": {},
   "outputs": [
    {
     "data": {
      "text/plain": [
       "[('Emma Watson', 8159245597)]"
      ]
     },
     "execution_count": 17,
     "metadata": {},
     "output_type": "execute_result"
    }
   ],
   "source": [
    "actors.most_common(1)"
   ]
  },
  {
   "cell_type": "markdown",
   "metadata": {},
   "source": [
    "#### 17. Какой актер принес меньше всего прибыли в 2012 году?"
   ]
  },
  {
   "cell_type": "code",
   "execution_count": 49,
   "metadata": {},
   "outputs": [
    {
     "data": {
      "text/plain": [
       "[('Danny Huston', 2106557),\n",
       " ('Sami Gayle', 2106557),\n",
       " ('Josh Lucas', 2106557),\n",
       " ('Nicolas Cage', 2106557),\n",
       " ('Michael Nyqvist', 3428048),\n",
       " ('Paula Patton', 3428048),\n",
       " ('Frank Grillo', 3428048),\n",
       " ('Hope Davis', 3428048),\n",
       " ('Jason Bateman', 3428048),\n",
       " ('50 Cent', 4636169),\n",
       " (\"Vincent D'Onofrio\", 4636169),\n",
       " ('Rosario Dawson', 4636169),\n",
       " ('Josh Duhamel', 4636169),\n",
       " ('Samantha Morton', 6063556),\n",
       " ('Paul Giamatti', 6063556),\n",
       " ('Juliette Binoche', 6063556),\n",
       " ('Sarah Gadon', 6063556),\n",
       " ('Heidi Hawkins', 8106475),\n",
       " ('James Kidnie', 8106475),\n",
       " ('Timothy Spall', 8106475),\n",
       " ('Lucas Black', 8138788),\n",
       " ('Rosemarie DeWitt', 8138788),\n",
       " ('Matt Damon', 8138788),\n",
       " ('David Koechner', 8493728),\n",
       " ('Jean-Luc Bilodeau', 8493728),\n",
       " ('Katrina Bowden', 8493728),\n",
       " ('Matt Bush', 8493728),\n",
       " ('Danielle Panabaker', 8493728),\n",
       " ('Tom Sturridge', 8784318),\n",
       " ('Sam Riley', 8784318),\n",
       " ('Garrett Hedlund', 8784318),\n",
       " ('RubÃ©n Blades', 9622846),\n",
       " (\"Peter O'Toole\", 9622846),\n",
       " ('Oscar Isaac', 9622846),\n",
       " ('Andy GarcÃ\\xada', 9622846),\n",
       " ('Eva Longoria', 9622846),\n",
       " ('Luke Pasqualino', 9627492),\n",
       " ('Julianna Guill', 9627492),\n",
       " ('Tom Felton', 9627492),\n",
       " ('Sebastian Stan', 9627492),\n",
       " ('Ashley Greene', 9627492),\n",
       " ('Jane Levy', 11417362),\n",
       " ('Josh Pence', 11417362),\n",
       " ('Chelsea Handler', 11417362),\n",
       " ('Jackson Nicoll', 11417362),\n",
       " ('Victoria Justice', 11417362),\n",
       " ('Mark Duplass', 12434778),\n",
       " ('Dennis Quaid', 13231461),\n",
       " ('Jeremy Irons', 13231461),\n",
       " ('Zoe Saldana', 13231461),\n",
       " ('Caroline Goodall', 16863583),\n",
       " ('Sigourney Weaver', 16863583),\n",
       " ('VerÃ³nica Echegui', 16863583),\n",
       " ('Henry Cavill', 16863583),\n",
       " ('Kirsten Dunst', 16890793),\n",
       " ('Abbie Cornish', 19422261),\n",
       " ('Christopher Walken', 19422261),\n",
       " ('Sam Rockwell', 19422261),\n",
       " ('Clark Duke', 22044277),\n",
       " ('Cliff Curtis', 22044277),\n",
       " ('Allison Janney', 22044277),\n",
       " ('Eddie Murphy', 22044277),\n",
       " ('Lauren Ambrose', 24159934),\n",
       " ('Justin Theroux', 24159934),\n",
       " ('Jennifer Aniston', 24159934),\n",
       " ('Carmen Ejogo', 24637469),\n",
       " ('Mike Epps', 24637469),\n",
       " ('Derek Luke', 24637469),\n",
       " ('Cee Lo Green', 24637469),\n",
       " ('Whitney Houston', 24637469),\n",
       " ('Dermot Mulroney', 24719215),\n",
       " ('Vinessa Shaw', 24719215),\n",
       " ('Kristen Bell', 24719215),\n",
       " ('Drew Barrymore', 24719215),\n",
       " ('Olivia Wilde', 25666239),\n",
       " ('Malin Ã…kerman', 26266491),\n",
       " ('Jesse Plemons', 28258060),\n",
       " ('Laura Dern', 28258060),\n",
       " ('Amy Adams', 28258060),\n",
       " ('Philip Seymour Hoffman', 28258060),\n",
       " ('Joaquin Phoenix', 28258060),\n",
       " ('Kevin McNally', 29657751),\n",
       " ('Alice Eve', 29657751),\n",
       " ('Luke Evans', 29657751),\n",
       " ('John Cusack', 29657751),\n",
       " ('Giancarlo Esposito', 30353232),\n",
       " ('Matthew Fox', 30353232),\n",
       " ('Jean Reno', 30353232),\n",
       " ('Rachel Nichols', 30353232),\n",
       " ('Tyler Perry', 30353232),\n",
       " ('WolÃ© Parks', 31083599),\n",
       " ('Jamie Chung', 31083599),\n",
       " ('Dania Ramirez', 31083599),\n",
       " ('Michael Shannon', 31083599),\n",
       " ('Peter Stormare', 32204030),\n",
       " ('Lennie James', 32204030),\n",
       " ('Joseph Gilgun', 32204030),\n",
       " ('Mia Moretti', 32726956),\n",
       " ('Rachael Markarian', 32726956),\n",
       " ('Shannon Woodward', 32726956),\n",
       " ('Russell Brand', 32726956),\n",
       " ('Katy Perry', 32726956),\n",
       " ('John Krasinski', 32858003),\n",
       " ('Bill Paxton', 33372606),\n",
       " ('Gina Carano', 33372606),\n",
       " ('Nina Dobrev', 33400000),\n",
       " ('Ezra Miller', 33400000),\n",
       " ('Emma Watson', 33400000),\n",
       " ('Logan Lerman', 33400000),\n",
       " ('Monica Raymund', 35485056),\n",
       " ('Brit Marling', 35485056),\n",
       " ('Tim Roth', 35485056),\n",
       " ('Richard Gere', 35485056),\n",
       " ('Patrick Fischler', 36893721),\n",
       " ('Sherri Shepherd', 36893721),\n",
       " ('Debbie Reynolds', 36893721),\n",
       " ('Katherine Heigl', 36893721),\n",
       " ('Ray Liotta', 37930465),\n",
       " ('James Gandolfini', 37930465),\n",
       " ('Ben Mendelsohn', 37930465),\n",
       " ('Scoot McNairy', 37930465),\n",
       " ('Brad Pitt', 37930465),\n",
       " ('Robert John Burke', 40346186),\n",
       " ('Catherine Chan', 40346186),\n",
       " ('James Hong', 40346186),\n",
       " ('Chris Sarandon', 40346186),\n",
       " ('Jason Cope', 41037742),\n",
       " ('Wood Harris', 41037742),\n",
       " ('Lena Headey', 41037742),\n",
       " ('Olivia Thirlby', 41037742),\n",
       " ('Karl Urban', 41037742),\n",
       " ('Adrianne Palicki', 44806783),\n",
       " ('Isabel Lucas', 44806783),\n",
       " ('Edward Burns', 46221189),\n",
       " ('Ed Harris', 46221189),\n",
       " ('Jamie Bell', 46221189),\n",
       " ('Benicio del Toro', 47000000),\n",
       " ('Aaron Taylor-Johnson', 47000000),\n",
       " ('Blake Lively', 47000000),\n",
       " ('Noah Segan', 47042000),\n",
       " ('Paul Dano', 47042000),\n",
       " ('David Harbour', 48126384),\n",
       " ('Natalie Martinez', 48126384),\n",
       " ('Michael PeÃ±a', 48126384),\n",
       " ('Jake Gyllenhaal', 48126384),\n",
       " ('Terrence Howard', 50365377),\n",
       " ('Daniela Ruah', 50365377),\n",
       " ('Cuba Gooding Jr.', 50365377),\n",
       " ('Radha Mitchell', 52302796),\n",
       " ('Carrie-Anne Moss', 52302796),\n",
       " ('Sean Bean', 52302796),\n",
       " ('Kit Harington', 52302796),\n",
       " ('Adelaide Clemens', 52302796),\n",
       " ('Mia Wasikowska', 53676580),\n",
       " ('Shia LaBeouf', 53676580),\n",
       " ('Alison Brie', 53909751),\n",
       " ('SofÃ\\xada Vergara', 54819301),\n",
       " ('Chris Diamantopoulos', 54819301),\n",
       " ('Will Sasso', 54819301),\n",
       " ('Sean Hayes', 54819301),\n",
       " ('Andy Samberg', 58058367),\n",
       " ('Leighton Meester', 58058367),\n",
       " ('Eva Amurri Martino', 58058367),\n",
       " ('Julianne Hough', 59418613),\n",
       " ('Diego Boneta', 59418613),\n",
       " ('Michael Gambon', 59520298),\n",
       " ('Pauline Collins', 59520298),\n",
       " ('Tom Courtenay', 59520298),\n",
       " ('Maggie Smith', 59520298),\n",
       " ('J.K. Simmons', 63100000),\n",
       " ('Ben Foster', 63100000),\n",
       " ('Jesse Williams', 66486080),\n",
       " ('Fran Kranz', 66486080),\n",
       " ('Anna Hutchison', 66486080),\n",
       " ('Kristen Connolly', 66486080),\n",
       " ('Bill Murray', 68263166),\n",
       " ('Kara Hayward', 68263166),\n",
       " ('Jared Gilman', 68263166),\n",
       " ('Zachary Gordon', 77112176),\n",
       " ('Rachael Harris', 77112176),\n",
       " ('Peyton List', 77112176),\n",
       " ('Steve Zahn', 77112176),\n",
       " ('Devon Bostick', 77112176),\n",
       " ('Joseph Gordon-Levitt', 78125599),\n",
       " ('Jennifer Lopez', 79700000),\n",
       " ('Cameron Diaz', 79700000),\n",
       " ('Alexander Asefa', 81272766),\n",
       " ('Gonzalo Menendez', 81272766),\n",
       " ('Nestor Serrano', 81272766),\n",
       " ('Emilio Rivera', 81272766),\n",
       " ('Roselyn SÃ¡nchez', 81272766),\n",
       " ('Martin Landau', 81491068),\n",
       " ('Martin Short', 81491068),\n",
       " (\"Catherine O'Hara\", 81491068),\n",
       " ('Winona Ryder', 81491068),\n",
       " ('Charlie Tahan', 81491068),\n",
       " ('Rob LaBelle', 85446075),\n",
       " ('Kyra Sedgwick', 85446075),\n",
       " ('Madison Davenport', 85446075),\n",
       " ('Natasha Calis', 85446075),\n",
       " ('Maude Apatow', 88058786),\n",
       " ('Leslie Mann', 88058786),\n",
       " ('Susan Sarandon', 93543423),\n",
       " ('Kevin Hart', 96070507),\n",
       " ('Regina Hall', 96070507),\n",
       " ('Meagan Good', 96070507),\n",
       " ('Jerry Ferrara', 96070507),\n",
       " ('Kirby Bliss Blanton', 100000000),\n",
       " ('Dax Flame', 100000000),\n",
       " ('Thomas Mann', 100000000),\n",
       " ('Jonathan Daniel Brown', 100000000),\n",
       " ('Oliver Cooper', 100000000),\n",
       " ('Emily Blunt', 100951751),\n",
       " ('Casey Affleck', 107139399),\n",
       " ('Jodelle Ferland', 107139399),\n",
       " ('Tucker Albrizzi', 107139399),\n",
       " ('Kodi Smit-McPhee', 107139399),\n",
       " ('Rufus Sewell', 112265139),\n",
       " ('Mary Elizabeth Winstead', 112265139),\n",
       " ('Anthony Mackie', 112265139),\n",
       " ('Dominic Cooper', 112265139),\n",
       " ('Benjamin Walker', 112265139),\n",
       " ('Marin Ireland', 114281051),\n",
       " ('Jean Smart', 114281051),\n",
       " ('Steve Carell', 114281051),\n",
       " ('Meryl Streep', 114281051),\n",
       " ('Rebel Wilson', 115350426),\n",
       " ('Anna Camp', 115350426),\n",
       " ('Brittany Snow', 115350426),\n",
       " ('Skylar Astin', 115350426),\n",
       " ('Brian Blessed', 118338361),\n",
       " ('Jeremy Piven', 118338361),\n",
       " ('Hugh Grant', 118338361),\n",
       " ('Bailee Madison', 119772232),\n",
       " ('Tom Everett Scott', 119772232),\n",
       " ('Marisa Tomei', 119772232),\n",
       " ('Bette Midler', 119772232),\n",
       " ('Billy Crystal', 119772232),\n",
       " ('Mary Stockley', 127730736),\n",
       " ('Alisa Khazanova', 127730736),\n",
       " ('Sidney Johnston', 127730736),\n",
       " ('Daniel Radcliffe', 127730736),\n",
       " ('Jeffrey Dean Morgan', 130252858),\n",
       " ('Hugo Weaving', 130482868),\n",
       " ('Jim Broadbent', 130482868),\n",
       " ('Halle Berry', 130482868),\n",
       " ('Tom Hanks', 130482868),\n",
       " ('India Eisley', 132400000),\n",
       " ('Theo James', 132400000),\n",
       " ('Stephen Rea', 132400000),\n",
       " ('Joel Edgerton', 132820716),\n",
       " ('Jason Clarke', 132820716),\n",
       " ('Jim Sturgess', 138589343),\n",
       " ('Jessica Guadix', 140470746),\n",
       " ('Megan Boone', 140470746),\n",
       " ('Stephen Boss', 140470746),\n",
       " ('Ryan Guzman', 140470746),\n",
       " ('Kathryn McCormick', 140470746),\n",
       " ('Jason Segel', 141968537),\n",
       " ('Sprague Grayden', 142817992),\n",
       " ('Brady Allen', 142817992),\n",
       " ('Matt Shively', 142817992),\n",
       " ('Kathryn Newton', 142817992),\n",
       " ('Katie Featherston', 142817992),\n",
       " ('Anna Wood', 145000000),\n",
       " ('Michael Kelly', 145000000),\n",
       " ('Michael B. Jordan', 145000000),\n",
       " ('Alex Russell', 145000000),\n",
       " ('Dane DeHaan', 145000000),\n",
       " ('Paul Rudd', 145618720),\n",
       " ('Salma Hayek', 165338361),\n",
       " ('Alex Pettyfer', 167221571),\n",
       " ('Cody Horn', 167221571),\n",
       " ('Olivia Munn', 167221571),\n",
       " ('Matthew McConaughey', 167221571),\n",
       " ('Anna Faris', 179379533),\n",
       " ('Aasif Mandvi', 179379533),\n",
       " ('Sayed Badreya', 179379533),\n",
       " ('Oaklee Pendergast', 180274123),\n",
       " ('Samuel Joslin', 180274123),\n",
       " ('Tom Holland', 180274123),\n",
       " ('Naomi Watts', 180274123),\n",
       " ('Martin Klebba', 183018522),\n",
       " ('Nathan Lane', 183018522),\n",
       " ('Armie Hammer', 183018522),\n",
       " ('Lily Collins', 183018522),\n",
       " ('Julia Roberts', 183018522),\n",
       " ('Jessica Chastain', 186497296),\n",
       " ('Chris Pratt', 186730467),\n",
       " ('Jessica Lange', 196114570),\n",
       " ('Scott Speedman', 196114570),\n",
       " ('Sam Neill', 196114570),\n",
       " ('Rachel McAdams', 196114570),\n",
       " ('Bill Nighy', 198802074),\n",
       " ('Jessica Biel', 198802074),\n",
       " ('Ellie Kemper', 201585328),\n",
       " ('Dave Franco', 201585328),\n",
       " ('Brie Larson', 201585328),\n",
       " ('Jonah Hill', 201585328),\n",
       " ('Chris Tucker', 205738714),\n",
       " ('Jacki Weaver', 205738714),\n",
       " ('Robert De Niro', 205738714),\n",
       " ('Joel Kinnaman', 208076205),\n",
       " ('Vera Farmiga', 208076205),\n",
       " ('Ryan Reynolds', 208076205),\n",
       " ('Denzel Washington', 208076205),\n",
       " ('Ewan McGregor', 213646729),\n",
       " ('Colin Farrell', 218224335),\n",
       " ('Werner Herzog', 218340595),\n",
       " ('Richard Jenkins', 218340595),\n",
       " ('Bradley Cooper', 218970175),\n",
       " ('Michael Ealy', 228470507),\n",
       " ('Victor Garber', 232324128),\n",
       " ('John Goodman', 232324128),\n",
       " ('Alan Arkin', 232324128),\n",
       " ('Ben Affleck', 232324128),\n",
       " ('Thomas Ian Nicholas', 234989584),\n",
       " ('Chris Klein', 234989584),\n",
       " ('Alyson Hannigan', 234989584),\n",
       " ('Jason Biggs', 234989584),\n",
       " ('Li Bingbing', 240159255),\n",
       " ('Aryana Engineer', 240159255),\n",
       " ('Michelle Rodriguez', 240159255),\n",
       " ('Sienna Guillory', 240159255),\n",
       " ('Milla Jovovich', 240159255),\n",
       " ('Jonny Lee Miller', 245527149),\n",
       " ('Jackie Earle Haley', 245527149),\n",
       " ('Helena Bonham Carter', 245527149),\n",
       " ('Johnny Depp', 245527149),\n",
       " ('Michelle Pfeiffer', 257961927),\n",
       " ('Megan Fox', 267438319),\n",
       " ('David Oyelowo', 268705972),\n",
       " ('Stacy Keach', 276572938),\n",
       " ('Scott Glenn', 276572938),\n",
       " ('Rachel Weisz', 276572938),\n",
       " ('Jeremy Renner', 276572938),\n",
       " ('Tom Cruise', 277759208),\n",
       " ('Willem Dafoe', 284139100),\n",
       " ('Lynn Collins', 284139100),\n",
       " ('Edgar RamÃ\\xadrez', 301000000),\n",
       " ('Tadanobu Asano', 303025485),\n",
       " ('Rihanna', 303025485),\n",
       " ('Alexander SkarsgÃ¥rd', 303025485),\n",
       " ('Isla Fisher', 306941670),\n",
       " ('Jude Law', 306941670),\n",
       " ('Arnold Schwarzenegger', 312573423),\n",
       " ('Dolph Lundgren', 312573423),\n",
       " ('Sylvester Stallone', 312573423),\n",
       " ('Chris Pine', 319376448),\n",
       " ('Edward Norton', 344836104),\n",
       " ('Sam Worthington', 347221189),\n",
       " ('Rob Riggle', 348840316),\n",
       " ('Ed Helms', 348840316),\n",
       " ('Taylor Swift', 348840316),\n",
       " ('Danny DeVito', 348840316),\n",
       " ('Zac Efron', 348840316),\n",
       " ('Anna Kendrick', 350316209),\n",
       " ('Jason Statham', 352919609),\n",
       " ('Luis GuzmÃ¡n', 355692760),\n",
       " ('Vanessa Hudgens', 355692760),\n",
       " ('Kristin Davis', 355692760),\n",
       " ('Dwayne Johnson', 355692760),\n",
       " ('Brendan Gleeson', 356072317),\n",
       " ('Selena Gomez', 358375603),\n",
       " ('Kevin James', 358375603),\n",
       " ('David Spade', 358375603),\n",
       " ('Steve Buscemi', 358375603),\n",
       " ('Alec Baldwin', 366360283),\n",
       " ('Luke Grimes', 376141306),\n",
       " ('Rade Serbedzija', 376141306),\n",
       " ('Famke Janssen', 376141306),\n",
       " ('Brooklyn Decker', 382725485),\n",
       " ('Kate Beckinsale', 394302074),\n",
       " ('Ian McShane', 396600000),\n",
       " ('Sam Claflin', 396600000),\n",
       " ('Idris Elba', 403170142),\n",
       " ('Noomi Rapace', 403170142),\n",
       " ('Maggie Grace', 408345336),\n",
       " ('CiarÃ¡n Hinds', 411869836),\n",
       " ('Adam Sandler', 416433970),\n",
       " ('Mark Strong', 416959816),\n",
       " ('Samuel L. Jackson', 425368238),\n",
       " ('Leonardo DiCaprio', 425368238),\n",
       " ('Christoph Waltz', 425368238),\n",
       " ('Jamie Foxx', 425368238),\n",
       " ('Michael Fassbender', 436542748),\n",
       " ('Amanda Seyfried', 441809770),\n",
       " ('Russell Crowe', 441809770),\n",
       " ('Kerry Washington', 447412515),\n",
       " ('Bruce Willis', 449378341),\n",
       " ('Jamie Elman', 471222889),\n",
       " ('Jack McBrayer', 471222889),\n",
       " ('Sarah Silverman', 471222889),\n",
       " ('John C. Reilly', 471222889),\n",
       " ('Guy Pearce', 489050752),\n",
       " ('Rosamund Pike', 519340595),\n",
       " ('Jane Lynch', 526042190),\n",
       " ('Kevin McKidd', 538983207),\n",
       " ('Julie Walters', 538983207),\n",
       " ('Kelly Macdonald', 538983207),\n",
       " ('Bryan Cranston', 540910192),\n",
       " ('Joel McHale', 549368315),\n",
       " ('Seth MacFarlane', 549368315),\n",
       " ('Mila Kunis', 549368315),\n",
       " ('Channing Tatum', 598294075),\n",
       " ('Billy Connolly', 598503505),\n",
       " ('Adil Hussain', 609016565),\n",
       " ('Gautam Belur', 609016565),\n",
       " ('Ayush Tandon', 609016565),\n",
       " ('Irrfan Khan', 609016565),\n",
       " ('Suraj Sharma', 609016565),\n",
       " ('Giovanni Ribisi', 612468315),\n",
       " ('Mark Wahlberg', 612468315),\n",
       " ('Michael Stuhlbarg', 624026776),\n",
       " ('Josh Brolin', 624026776),\n",
       " ('Will Smith', 624026776),\n",
       " ('Taylor Kitsch', 634164585),\n",
       " ('Liam Neeson', 677141306),\n",
       " ('Liam Hemsworth', 691210692),\n",
       " ('Woody Harrelson', 710632953),\n",
       " ('Tommy Lee Jones', 738307827),\n",
       " ('Chris Rock', 746921274),\n",
       " ('David Schwimmer', 746921274),\n",
       " ('Ben Stiller', 746921274),\n",
       " ('Hugh Jackman', 748751440),\n",
       " ('Martin Sheen', 752215857),\n",
       " ('Emma Stone', 752215857),\n",
       " ('Andrew Garfield', 752215857),\n",
       " ('Frances McDormand', 755060062),\n",
       " ('Charlize Theron', 799770142),\n",
       " ('Rhys Ifans', 806125608),\n",
       " ('Elizabeth Reaser', 829000000),\n",
       " ('Peter Facinelli', 829000000),\n",
       " ('Taylor Lautner', 829000000),\n",
       " ('Elizabeth Banks', 829566659),\n",
       " ('Robert Pattinson', 835063556),\n",
       " ('Chris Wedge', 877244782),\n",
       " ('Ray Romano', 877244782),\n",
       " ('Jennifer Lawrence', 896949406),\n",
       " ('John Leguizamo', 914138503),\n",
       " ('Cate Blanchett', 1017003568),\n",
       " ('Andy Serkis', 1017003568),\n",
       " ('Richard Armitage', 1017003568),\n",
       " ('Martin Freeman', 1017003568),\n",
       " ('Ian McKellen', 1017003568),\n",
       " ('Gary Oldman', 1081041287),\n",
       " ('Michael Caine', 1081041287),\n",
       " ('Christian Bale', 1081041287),\n",
       " ('Josh Hutcherson', 1091710235),\n",
       " ('Naomie Harris', 1108561013),\n",
       " ('Javier Bardem', 1108561013),\n",
       " ('Judi Dench', 1108561013),\n",
       " ('Daniel Craig', 1108561013),\n",
       " ('Seann William Scott', 1112234366),\n",
       " ('Tom Hardy', 1134717867),\n",
       " ('Emma Thompson', 1163009983),\n",
       " ('Kristen Stewart', 1234384318),\n",
       " ('Sacha Baron Cohen', 1368110577),\n",
       " ('Ralph Fiennes', 1409561013),\n",
       " ('Scarlett Johansson', 1519557910),\n",
       " ('Mark Ruffalo', 1519557910),\n",
       " ('Chris Evans', 1519557910),\n",
       " ('Robert Downey Jr.', 1519557910),\n",
       " ('Anne Hathaway', 1522851057),\n",
       " ('Denis Leary', 1629460639),\n",
       " ('Chris Hemsworth', 2027450773)]"
      ]
     },
     "execution_count": 49,
     "metadata": {},
     "output_type": "execute_result"
    }
   ],
   "source": [
    "wd_2012 = wd[wd['release_year'] == 2012]\n",
    "\n",
    "actors_2012 = Counter()\n",
    "\n",
    "for i, x in enumerate(wd_2012['cast'].str.split('|')):\n",
    "    for actor in x:\n",
    "        actors_2012[actor] += wd_2012.iloc[i]['revenue']\n",
    "\n",
    "list(reversed(actors_2012.most_common()))         "
   ]
  },
  {
   "cell_type": "code",
   "execution_count": 54,
   "metadata": {
    "collapsed": true
   },
   "outputs": [],
   "source": [
    "actors_2012 = Counter()"
   ]
  },
  {
   "cell_type": "markdown",
   "metadata": {},
   "source": [
    "#### 18. Какой актер снялся в большем количестве высокобюджетных фильмов? Примечание: в фильмах, где бюджет выше среднего по данной выборке."
   ]
  },
  {
   "cell_type": "code",
   "execution_count": 58,
   "metadata": {
    "collapsed": true
   },
   "outputs": [],
   "source": [
    "wd_high_budget = wd[wd['budget'] > wd['budget'].mean()]"
   ]
  },
  {
   "cell_type": "code",
   "execution_count": 78,
   "metadata": {},
   "outputs": [
    {
     "data": {
      "text/plain": [
       "[('Matt Damon', 18)]"
      ]
     },
     "execution_count": 78,
     "metadata": {},
     "output_type": "execute_result"
    }
   ],
   "source": [
    "actors_high_budget = Counter()\n",
    "\n",
    "for i, x in enumerate(wd_high_budget['cast'].str.split('|')):\n",
    "    for actor in x:\n",
    "        actors_high_budget[actor] += 1\n",
    "        \n",
    "actors_high_budget.most_common(1)      "
   ]
  },
  {
   "cell_type": "markdown",
   "metadata": {},
   "source": [
    "#### 19. В фильмах какого жанра больше всего снимался Nicolas Cage?"
   ]
  },
  {
   "cell_type": "code",
   "execution_count": 79,
   "metadata": {},
   "outputs": [
    {
     "data": {
      "text/plain": [
       "[('Action', 17)]"
      ]
     },
     "execution_count": 79,
     "metadata": {},
     "output_type": "execute_result"
    }
   ],
   "source": [
    "gg = wd[wd['cast'].str.contains('Nicolas Cage')]['genres'].str.split('|')\n",
    "\n",
    "a = []\n",
    "for i in range(len(gg)):\n",
    "    for j in range(len(gg.iloc[i])):\n",
    "        a.append(gg.iloc[i][j])\n",
    "        \n",
    "res = Counter(a).most_common(1)\n",
    "res  "
   ]
  },
  {
   "cell_type": "markdown",
   "metadata": {
    "collapsed": true
   },
   "source": [
    "#### 20. Какая студия сняла больше всего фильмов?"
   ]
  },
  {
   "cell_type": "code",
   "execution_count": 67,
   "metadata": {},
   "outputs": [
    {
     "data": {
      "text/plain": [
       "[('Universal Pictures', 173)]"
      ]
     },
     "execution_count": 67,
     "metadata": {},
     "output_type": "execute_result"
    }
   ],
   "source": [
    "pc = wd['production_companies'].str.split('|')\n",
    "\n",
    "a = []\n",
    "for i in range(len(pc)):\n",
    "    for j in range(len(pc[i])):\n",
    "        a.append(pc[i][j])\n",
    "        \n",
    "res = Counter(a).most_common(1)\n",
    "res  "
   ]
  },
  {
   "cell_type": "code",
   "execution_count": 68,
   "metadata": {},
   "outputs": [
    {
     "data": {
      "text/plain": [
       "0    [Universal Studios, Amblin Entertainment, Lege...\n",
       "1    [Village Roadshow Pictures, Kennedy Miller Pro...\n",
       "2    [Summit Entertainment, Mandeville Films, Red W...\n",
       "3        [Lucasfilm, Truenorth Productions, Bad Robot]\n",
       "4    [Universal Pictures, Original Film, Media Righ...\n",
       "Name: production_companies, dtype: object"
      ]
     },
     "execution_count": 68,
     "metadata": {},
     "output_type": "execute_result"
    }
   ],
   "source": [
    "pc.head()"
   ]
  },
  {
   "cell_type": "markdown",
   "metadata": {},
   "source": [
    "#### 21. Какая студия сняла больше всего фильмов в 2015 году?"
   ]
  },
  {
   "cell_type": "code",
   "execution_count": 263,
   "metadata": {
    "collapsed": true
   },
   "outputs": [],
   "source": [
    "pc_2015 = wd[wd['release_year'] >= 2015]['production_companies'].str.split('|')"
   ]
  },
  {
   "cell_type": "code",
   "execution_count": 264,
   "metadata": {},
   "outputs": [
    {
     "data": {
      "text/plain": [
       "[('Warner Bros.', 12)]"
      ]
     },
     "execution_count": 264,
     "metadata": {},
     "output_type": "execute_result"
    }
   ],
   "source": [
    "a = []\n",
    "for i in range(len(pc_2015)):\n",
    "    for j in range(len(pc_2015.iloc[i])):\n",
    "        a.append(pc_2015.iloc[i][j])\n",
    "        \n",
    "res = Counter(a).most_common(1)\n",
    "res  "
   ]
  },
  {
   "cell_type": "markdown",
   "metadata": {
    "collapsed": true
   },
   "source": [
    "#### 22. Какая студия заработала больше всего денег в жанре комедий за все время?"
   ]
  },
  {
   "cell_type": "code",
   "execution_count": 81,
   "metadata": {
    "collapsed": true
   },
   "outputs": [],
   "source": [
    "pc_com = wd[wd['genres'].str.contains('Comedy')]"
   ]
  },
  {
   "cell_type": "code",
   "execution_count": 101,
   "metadata": {},
   "outputs": [
    {
     "data": {
      "text/plain": [
       "[('Universal Pictures', 12787945581)]"
      ]
     },
     "execution_count": 101,
     "metadata": {},
     "output_type": "execute_result"
    }
   ],
   "source": [
    "production_companies = Counter()\n",
    "\n",
    "for i, c in enumerate(pc_com['production_companies'].str.split('|')):\n",
    "    for company in c:\n",
    "        production_companies[company] += pc_com.iloc[i]['revenue']\n",
    "\n",
    "production_companies.most_common(1)        "
   ]
  },
  {
   "cell_type": "markdown",
   "metadata": {},
   "source": [
    "#### 23. Какая студия заработала больше всего денег в 2012 году?"
   ]
  },
  {
   "cell_type": "code",
   "execution_count": 83,
   "metadata": {
    "collapsed": true
   },
   "outputs": [],
   "source": [
    "wd_2012 = wd[wd['release_year'] == 2012]"
   ]
  },
  {
   "cell_type": "code",
   "execution_count": 103,
   "metadata": {},
   "outputs": [
    {
     "data": {
      "text/plain": [
       "[('Columbia Pictures', 3468406608)]"
      ]
     },
     "execution_count": 103,
     "metadata": {},
     "output_type": "execute_result"
    }
   ],
   "source": [
    "production_companies_2012 = Counter()\n",
    "\n",
    "for i, c in enumerate(wd_2012['production_companies'].str.split('|')):\n",
    "    for company in c:\n",
    "        production_companies_2012[company] += wd_2012.iloc[i]['revenue']\n",
    "\n",
    "production_companies_2012.most_common(1)   "
   ]
  },
  {
   "cell_type": "markdown",
   "metadata": {},
   "source": [
    "#### 24. Самый убыточный фильм от Paramount Pictures?"
   ]
  },
  {
   "cell_type": "code",
   "execution_count": 429,
   "metadata": {},
   "outputs": [
    {
     "data": {
      "text/plain": [
       "original_title\n",
       "K-19: The Widowmaker   -64831034\n",
       "Name: profit, dtype: int64"
      ]
     },
     "execution_count": 429,
     "metadata": {},
     "output_type": "execute_result"
    }
   ],
   "source": [
    "grouped_wd = wd[wd['production_companies'].str.contains('Paramount Pictures')].groupby(['original_title'])['profit'].sum().sort_values(ascending=True)\n",
    "grouped_wd.head(1)"
   ]
  },
  {
   "cell_type": "markdown",
   "metadata": {},
   "source": [
    "#### 25. Какой самый прибыльный год (в какой год студии заработали больше всего)?"
   ]
  },
  {
   "cell_type": "code",
   "execution_count": 433,
   "metadata": {},
   "outputs": [
    {
     "data": {
      "text/plain": [
       "release_year\n",
       "2015    18668572378\n",
       "2014    16397812953\n",
       "2012    16077001687\n",
       "2013    15243179791\n",
       "2011    14730241341\n",
       "Name: profit, dtype: int64"
      ]
     },
     "execution_count": 433,
     "metadata": {},
     "output_type": "execute_result"
    }
   ],
   "source": [
    "grouped_wd = wd.groupby(['release_year'])['profit'].sum().sort_values(ascending=False)\n",
    "grouped_wd.head(5)"
   ]
  },
  {
   "cell_type": "markdown",
   "metadata": {
    "collapsed": true
   },
   "source": [
    "#### 26. Какой самый прибыльный год для студии Warner Bros?"
   ]
  },
  {
   "cell_type": "code",
   "execution_count": 434,
   "metadata": {},
   "outputs": [
    {
     "data": {
      "text/plain": [
       "release_year\n",
       "2014    2295464519\n",
       "2007    2201675217\n",
       "2008    2134595031\n",
       "2010    1974712985\n",
       "2011    1871393682\n",
       "Name: profit, dtype: int64"
      ]
     },
     "execution_count": 434,
     "metadata": {},
     "output_type": "execute_result"
    }
   ],
   "source": [
    "grouped_wd = wd[wd['production_companies'].str.contains('Warner Bros')].groupby(['release_year'])['profit'].sum().sort_values(ascending=False)\n",
    "grouped_wd.head(5)"
   ]
  },
  {
   "cell_type": "markdown",
   "metadata": {
    "collapsed": true
   },
   "source": [
    "#### 27. В каком месяце за все годы суммарно вышло больше всего фильмов?"
   ]
  },
  {
   "cell_type": "code",
   "execution_count": 167,
   "metadata": {
    "collapsed": true
   },
   "outputs": [],
   "source": [
    "release_date = wd['release_date'].iloc[0:]\n",
    "\n",
    "months = []\n",
    "for i in release_date:\n",
    "    months.append(datetime.strptime(i, '%m/%d/%Y').month)"
   ]
  },
  {
   "cell_type": "code",
   "execution_count": 165,
   "metadata": {},
   "outputs": [
    {
     "data": {
      "text/plain": [
       "[(9, 227)]"
      ]
     },
     "execution_count": 165,
     "metadata": {},
     "output_type": "execute_result"
    }
   ],
   "source": [
    "res = Counter(months).most_common(1)\n",
    "res"
   ]
  },
  {
   "cell_type": "markdown",
   "metadata": {},
   "source": [
    "#### 28. Сколько суммарно вышло фильмов летом (за июнь, июль, август)?"
   ]
  },
  {
   "cell_type": "code",
   "execution_count": 283,
   "metadata": {
    "collapsed": true
   },
   "outputs": [],
   "source": [
    "months_summer = []\n",
    "for i in release_date:\n",
    "    month = datetime.strptime(i, '%m/%d/%Y').month\n",
    "    if month in (6,7,8):\n",
    "        months_summer.append(month)"
   ]
  },
  {
   "cell_type": "code",
   "execution_count": 178,
   "metadata": {},
   "outputs": [
    {
     "data": {
      "text/plain": [
       "450"
      ]
     },
     "execution_count": 178,
     "metadata": {},
     "output_type": "execute_result"
    }
   ],
   "source": [
    "len(months_summer)"
   ]
  },
  {
   "cell_type": "markdown",
   "metadata": {},
   "source": [
    "#### 29. Какой режиссер выпускает (суммарно по годам) больше всего фильмов зимой?"
   ]
  },
  {
   "cell_type": "code",
   "execution_count": 9,
   "metadata": {},
   "outputs": [],
   "source": [
    "wd['month'] = [datetime.strptime(i, '%m/%d/%Y').month for i in wd['release_date']]"
   ]
  },
  {
   "cell_type": "code",
   "execution_count": 200,
   "metadata": {
    "collapsed": true
   },
   "outputs": [],
   "source": [
    "wd_winter = wd[(wd['month'] == 1 )|(wd['month'] == 2)|(wd['month'] == 12)]"
   ]
  },
  {
   "cell_type": "code",
   "execution_count": 202,
   "metadata": {},
   "outputs": [
    {
     "data": {
      "text/plain": [
       "[('Peter Jackson', 7)]"
      ]
     },
     "execution_count": 202,
     "metadata": {},
     "output_type": "execute_result"
    }
   ],
   "source": [
    "res = Counter(wd_winter['director']).most_common(1)\n",
    "res"
   ]
  },
  {
   "cell_type": "markdown",
   "metadata": {},
   "source": [
    "#### 30. Какой месяц чаще всего самый прибыльный в году?"
   ]
  },
  {
   "cell_type": "code",
   "execution_count": 136,
   "metadata": {},
   "outputs": [
    {
     "data": {
      "text/plain": [
       "month\n",
       "6     7\n",
       "12    5\n",
       "5     3\n",
       "7     1\n",
       "dtype: int64"
      ]
     },
     "execution_count": 136,
     "metadata": {},
     "output_type": "execute_result"
    }
   ],
   "source": [
    "wd['ym_revenue'] = wd.groupby(['month', 'release_year'])['revenue'].transform(np.sum) \n",
    "wd['ym_revenue_rnk'] = wd.groupby(['release_year'])['ym_revenue'].rank(method='dense', ascending=False)\n",
    "\n",
    "wd[['month', 'release_year','ym_revenue_rnk']].drop_duplicates().loc[wd['ym_revenue_rnk'] == 1] \\\n",
    "    .groupby(['month']).size().sort_values(ascending=False)"
   ]
  },
  {
   "cell_type": "markdown",
   "metadata": {},
   "source": [
    "#### 31. Названия фильмов какой студии в среднем самые длинные по количеству символов?"
   ]
  },
  {
   "cell_type": "code",
   "execution_count": 78,
   "metadata": {},
   "outputs": [],
   "source": [
    "wd['length_title'] = [len(x) for x in wd['original_title']]\n",
    "from collections import Counter\n",
    "tl = Counter()\n",
    "for i, x in enumerate(wd['production_companies'].str.split('|')):\n",
    "    for a in x:\n",
    "        tl[a] += wd.loc[i]['length_title']  \n",
    "        \n",
    "length_title = pd.DataFrame.from_dict(tl, orient = 'index').reset_index()\n",
    "length_title = length_title.rename(columns={'index':'company', 0:'length_title'})\n",
    "length_title.head()        "
   ]
  },
  {
   "cell_type": "code",
   "execution_count": 71,
   "metadata": {},
   "outputs": [],
   "source": [
    "n = Counter()\n",
    "for i, x in enumerate(wd['production_companies'].str.split('|')):\n",
    "    for a in x:\n",
    "        n[a] += 1\n",
    "        \n",
    "numb = pd.DataFrame.from_dict(n, orient = 'index').reset_index()\n",
    "numb = numb.rename(columns={'index':'company', 0:'numb'})\n",
    "numb.head()        "
   ]
  },
  {
   "cell_type": "code",
   "execution_count": 174,
   "metadata": {},
   "outputs": [
    {
     "data": {
      "text/html": [
       "<div>\n",
       "<style>\n",
       "    .dataframe thead tr:only-child th {\n",
       "        text-align: right;\n",
       "    }\n",
       "\n",
       "    .dataframe thead th {\n",
       "        text-align: left;\n",
       "    }\n",
       "\n",
       "    .dataframe tbody tr th {\n",
       "        vertical-align: top;\n",
       "    }\n",
       "</style>\n",
       "<table border=\"1\" class=\"dataframe\">\n",
       "  <thead>\n",
       "    <tr style=\"text-align: right;\">\n",
       "      <th></th>\n",
       "      <th>company</th>\n",
       "      <th>length_title</th>\n",
       "      <th>numb</th>\n",
       "      <th>avg_lenght</th>\n",
       "    </tr>\n",
       "  </thead>\n",
       "  <tbody>\n",
       "    <tr>\n",
       "      <th>1506</th>\n",
       "      <td>Four By Two Productions</td>\n",
       "      <td>83</td>\n",
       "      <td>1</td>\n",
       "      <td>83.0</td>\n",
       "    </tr>\n",
       "  </tbody>\n",
       "</table>\n",
       "</div>"
      ],
      "text/plain": [
       "                      company  length_title  numb  avg_lenght\n",
       "1506  Four By Two Productions            83     1        83.0"
      ]
     },
     "execution_count": 174,
     "metadata": {},
     "output_type": "execute_result"
    }
   ],
   "source": [
    "joined = length_title.merge(numb, on='company', how='left')\n",
    "joined['avg_lenght']  = joined['length_title'] / joined['numb']\n",
    "joined.sort_values(by = 'avg_lenght', ascending = False).head(1)"
   ]
  },
  {
   "cell_type": "markdown",
   "metadata": {},
   "source": [
    "#### 32. Названия фильмов какой студии в среднем самые длинные по количеству слов?"
   ]
  },
  {
   "cell_type": "code",
   "execution_count": null,
   "metadata": {
    "collapsed": true
   },
   "outputs": [],
   "source": [
    "wd['count_words_title'] = wd['original_title'].str.split().str.len()"
   ]
  },
  {
   "cell_type": "code",
   "execution_count": 182,
   "metadata": {},
   "outputs": [],
   "source": [
    "from collections import Counter\n",
    "cw = Counter()\n",
    "for i, x in enumerate(wd['production_companies'].str.split('|')):\n",
    "    for a in x:\n",
    "        cw[a] += wd.loc[i]['count_words_title']  \n",
    "        \n",
    "count_words_title = pd.DataFrame.from_dict(cw, orient = 'index').reset_index()\n",
    "count_words_title = count_words_title.rename(columns={'index':'company', 0:'count_words_title'})"
   ]
  },
  {
   "cell_type": "code",
   "execution_count": 183,
   "metadata": {},
   "outputs": [
    {
     "data": {
      "text/html": [
       "<div>\n",
       "<style>\n",
       "    .dataframe thead tr:only-child th {\n",
       "        text-align: right;\n",
       "    }\n",
       "\n",
       "    .dataframe thead th {\n",
       "        text-align: left;\n",
       "    }\n",
       "\n",
       "    .dataframe tbody tr th {\n",
       "        vertical-align: top;\n",
       "    }\n",
       "</style>\n",
       "<table border=\"1\" class=\"dataframe\">\n",
       "  <thead>\n",
       "    <tr style=\"text-align: right;\">\n",
       "      <th></th>\n",
       "      <th>company</th>\n",
       "      <th>count_words_title</th>\n",
       "      <th>numb</th>\n",
       "      <th>avg_count_words</th>\n",
       "    </tr>\n",
       "  </thead>\n",
       "  <tbody>\n",
       "    <tr>\n",
       "      <th>1506</th>\n",
       "      <td>Four By Two Productions</td>\n",
       "      <td>12</td>\n",
       "      <td>1</td>\n",
       "      <td>12.0</td>\n",
       "    </tr>\n",
       "  </tbody>\n",
       "</table>\n",
       "</div>"
      ],
      "text/plain": [
       "                      company  count_words_title  numb  avg_count_words\n",
       "1506  Four By Two Productions                 12     1             12.0"
      ]
     },
     "execution_count": 183,
     "metadata": {},
     "output_type": "execute_result"
    }
   ],
   "source": [
    "# numb from question 31\n",
    "joined = count_words_title.merge(numb, on='company', how='left')\n",
    "joined['avg_count_words']  = joined['count_words_title'] / joined['numb']\n",
    "joined.sort_values(by = 'avg_count_words', ascending = False).head(1)"
   ]
  },
  {
   "cell_type": "markdown",
   "metadata": {},
   "source": [
    "#### 33. Сколько разных слов используется в названиях фильмов (без учета регистра)?"
   ]
  },
  {
   "cell_type": "code",
   "execution_count": 253,
   "metadata": {},
   "outputs": [],
   "source": [
    "wd['original_title_clean'] = wd['original_title'].str.replace('[#:!?-]', '') \n",
    "words_all = wd['original_title_clean'].str.split(' ')"
   ]
  },
  {
   "cell_type": "code",
   "execution_count": 254,
   "metadata": {},
   "outputs": [
    {
     "data": {
      "text/plain": [
       "2409"
      ]
     },
     "execution_count": 254,
     "metadata": {},
     "output_type": "execute_result"
    }
   ],
   "source": [
    "a = []\n",
    "for i in range(len(words_all)):\n",
    "    for j in range(len(words_all[i])):\n",
    "        a.append(words_all[i][j])\n",
    "        \n",
    "unique_list = [] \n",
    "\n",
    "for i in a:\n",
    "    if i not in unique_list:\n",
    "        unique_list.append(i)\n",
    "        \n",
    "len(unique_list)         "
   ]
  },
  {
   "cell_type": "markdown",
   "metadata": {},
   "source": [
    "#### 34. Какие фильмы входят в 1 % лучших по рейтингу?       "
   ]
  },
  {
   "cell_type": "code",
   "execution_count": 265,
   "metadata": {},
   "outputs": [],
   "source": [
    "best_movies = wd['original_title'][wd['vote_average'] >= wd['vote_average'].quantile(.99)]"
   ]
  },
  {
   "cell_type": "code",
   "execution_count": 277,
   "metadata": {},
   "outputs": [],
   "source": [
    "q1 = 0\n",
    "q2 = 0\n",
    "q3 = 0\n",
    "q4 = 0\n",
    "q5 = 0\n",
    "\n",
    "for i in best_movies:\n",
    "    if i in ('Inside Out', 'Gone Girl', '12 Years a Slave'):\n",
    "       q1+=1\n",
    "\n",
    "for i in best_movies:\n",
    "    if i in ('BloodRayne', 'The Adventures of Rocky and Bullwinkle'):\n",
    "       q2+=1\n",
    "\n",
    "for i in best_movies:\n",
    "    if i in ('The Lord of the Rings: The Return of the King', 'Upside Down'):\n",
    "       q3+=1   \n",
    "    \n",
    "for i in best_movies:\n",
    "    if i in ('300', 'Lucky Number Slevin'):\n",
    "       q4+=1  \n",
    "\n",
    "for i in best_movies:\n",
    "    if i in ('Upside Down', '300', 'Inside Out', 'The Lord of the Rings: The Return of the King'):\n",
    "       q5+=1 "
   ]
  },
  {
   "cell_type": "code",
   "execution_count": 278,
   "metadata": {},
   "outputs": [
    {
     "name": "stdout",
     "output_type": "stream",
     "text": [
      "3 0 1 0 2\n"
     ]
    }
   ],
   "source": [
    "print(q1, q2, q3, q4, q5)"
   ]
  },
  {
   "cell_type": "markdown",
   "metadata": {},
   "source": [
    "#### 35. Какие актеры чаще всего снимаются в одном фильме вместе?"
   ]
  },
  {
   "cell_type": "code",
   "execution_count": 279,
   "metadata": {},
   "outputs": [
    {
     "data": {
      "text/plain": [
       "Index(['imdb_id', 'popularity', 'budget', 'revenue', 'original_title', 'cast',\n",
       "       'director', 'tagline', 'overview', 'runtime', 'genres',\n",
       "       'production_companies', 'release_date', 'vote_count', 'vote_average',\n",
       "       'release_year', 'profit', 'month', 'length_title', 'ym_revenue',\n",
       "       'ym_revenue_rnk', 'count_words_title', 'original_title_clean'],\n",
       "      dtype='object')"
      ]
     },
     "execution_count": 279,
     "metadata": {},
     "output_type": "execute_result"
    }
   ],
   "source": [
    "from collections import defaultdict\n",
    "\n",
    "actors_couple = defaultdict(list)\n",
    "\n",
    "for i, row in data.iterrows():\n",
    "    imdb_id = row['imdb_id']\n",
    "    for actor in row['cast'].split('|'):\n",
    "        actorsDict['imdb_id'].append(imdb_id)\n",
    "        actorsDict['actor'].append(actor)\n",
    "        \n",
    "actorsDF = pd.DataFrame(actorsDict)\n",
    "am = actorsDF.merge(data,how='inner',on = 'imdb_id')"
   ]
  },
  {
   "cell_type": "code",
   "execution_count": 316,
   "metadata": {
    "collapsed": true
   },
   "outputs": [],
   "source": [
    "from collections import defaultdict\n",
    "actors = defaultdict(list)\n",
    "\n",
    "for i, row in wd.iterrows():\n",
    "    imdb_id = row['imdb_id']\n",
    "    for actor in row['cast'].split('|'):\n",
    "        actors['imdb_id'].append(imdb_id)\n",
    "        actors['actor'].append(actor)"
   ]
  },
  {
   "cell_type": "code",
   "execution_count": 317,
   "metadata": {},
   "outputs": [],
   "source": [
    "actors = pd.DataFrame(actorsDict)\n",
    "actors_couple = actorsDF.merge(actorsDF,how='inner',on = 'imdb_id')\n",
    "actors_couple = actors_couple[actors_couple['actor_x'] != actors_couple['actor_y']]"
   ]
  },
  {
   "cell_type": "code",
   "execution_count": 318,
   "metadata": {},
   "outputs": [
    {
     "data": {
      "text/plain": [
       "actor_x               actor_y             \n",
       "Rupert Grint          Emma Watson             8\n",
       "                      Daniel Radcliffe        8\n",
       "Emma Watson           Rupert Grint            8\n",
       "Daniel Radcliffe      Rupert Grint            8\n",
       "                      Emma Watson             8\n",
       "Emma Watson           Daniel Radcliffe        8\n",
       "Owen Wilson           Ben Stiller             6\n",
       "Helena Bonham Carter  Johnny Depp             6\n",
       "Ben Stiller           Owen Wilson             6\n",
       "Johnny Depp           Helena Bonham Carter    6\n",
       "Name: imdb_id, dtype: int64"
      ]
     },
     "execution_count": 318,
     "metadata": {},
     "output_type": "execute_result"
    }
   ],
   "source": [
    "actors_couple.groupby(['actor_x', 'actor_y'])['imdb_id'].count().sort_values(ascending=False).head(10)"
   ]
  },
  {
   "cell_type": "markdown",
   "metadata": {},
   "source": [
    "#### 36. У какого из режиссеров самый высокий процент фильмов со сборами выше бюджета?"
   ]
  },
  {
   "cell_type": "code",
   "execution_count": 329,
   "metadata": {},
   "outputs": [],
   "source": [
    "directors = Counter()\n",
    "\n",
    "for i, x in enumerate(wd['director'].str.split('|')):\n",
    "    for director in x:\n",
    "        directors[director] += 1"
   ]
  },
  {
   "cell_type": "code",
   "execution_count": 334,
   "metadata": {},
   "outputs": [],
   "source": [
    "wd_exp = wd[wd['revenue'] > wd['budget']] \n",
    "\n",
    "directors_exp = Counter()\n",
    "\n",
    "for i, x in enumerate(wd_exp['director'].str.split('|')):\n",
    "    for director in x:\n",
    "        directors_exp[director] += 1\n",
    "\n"
   ]
  },
  {
   "cell_type": "code",
   "execution_count": 335,
   "metadata": {},
   "outputs": [
    {
     "data": {
      "text/html": [
       "<div>\n",
       "<style>\n",
       "    .dataframe thead tr:only-child th {\n",
       "        text-align: right;\n",
       "    }\n",
       "\n",
       "    .dataframe thead th {\n",
       "        text-align: left;\n",
       "    }\n",
       "\n",
       "    .dataframe tbody tr th {\n",
       "        vertical-align: top;\n",
       "    }\n",
       "</style>\n",
       "<table border=\"1\" class=\"dataframe\">\n",
       "  <thead>\n",
       "    <tr style=\"text-align: right;\">\n",
       "      <th></th>\n",
       "      <th>director</th>\n",
       "      <th>movies_cnt</th>\n",
       "    </tr>\n",
       "  </thead>\n",
       "  <tbody>\n",
       "    <tr>\n",
       "      <th>0</th>\n",
       "      <td>Colin Trevorrow</td>\n",
       "      <td>1</td>\n",
       "    </tr>\n",
       "    <tr>\n",
       "      <th>1</th>\n",
       "      <td>George Miller</td>\n",
       "      <td>3</td>\n",
       "    </tr>\n",
       "    <tr>\n",
       "      <th>2</th>\n",
       "      <td>Robert Schwentke</td>\n",
       "      <td>4</td>\n",
       "    </tr>\n",
       "    <tr>\n",
       "      <th>3</th>\n",
       "      <td>J.J. Abrams</td>\n",
       "      <td>5</td>\n",
       "    </tr>\n",
       "    <tr>\n",
       "      <th>4</th>\n",
       "      <td>James Wan</td>\n",
       "      <td>4</td>\n",
       "    </tr>\n",
       "  </tbody>\n",
       "</table>\n",
       "</div>"
      ],
      "text/plain": [
       "           director  movies_cnt\n",
       "0   Colin Trevorrow           1\n",
       "1     George Miller           3\n",
       "2  Robert Schwentke           4\n",
       "3       J.J. Abrams           5\n",
       "4         James Wan           4"
      ]
     },
     "execution_count": 335,
     "metadata": {},
     "output_type": "execute_result"
    }
   ],
   "source": [
    "directors_df = pd.DataFrame.from_dict(directors, orient = 'index').reset_index()\n",
    "directors_df = directors_df.rename(columns={'index':'director', 0:'movies_cnt'})\n",
    "directors_df.head() "
   ]
  },
  {
   "cell_type": "code",
   "execution_count": 337,
   "metadata": {},
   "outputs": [
    {
     "data": {
      "text/html": [
       "<div>\n",
       "<style>\n",
       "    .dataframe thead tr:only-child th {\n",
       "        text-align: right;\n",
       "    }\n",
       "\n",
       "    .dataframe thead th {\n",
       "        text-align: left;\n",
       "    }\n",
       "\n",
       "    .dataframe tbody tr th {\n",
       "        vertical-align: top;\n",
       "    }\n",
       "</style>\n",
       "<table border=\"1\" class=\"dataframe\">\n",
       "  <thead>\n",
       "    <tr style=\"text-align: right;\">\n",
       "      <th></th>\n",
       "      <th>director</th>\n",
       "      <th>movies_exp_cnt</th>\n",
       "    </tr>\n",
       "  </thead>\n",
       "  <tbody>\n",
       "    <tr>\n",
       "      <th>0</th>\n",
       "      <td>Colin Trevorrow</td>\n",
       "      <td>1</td>\n",
       "    </tr>\n",
       "    <tr>\n",
       "      <th>1</th>\n",
       "      <td>George Miller</td>\n",
       "      <td>3</td>\n",
       "    </tr>\n",
       "    <tr>\n",
       "      <th>2</th>\n",
       "      <td>Robert Schwentke</td>\n",
       "      <td>3</td>\n",
       "    </tr>\n",
       "    <tr>\n",
       "      <th>3</th>\n",
       "      <td>J.J. Abrams</td>\n",
       "      <td>5</td>\n",
       "    </tr>\n",
       "    <tr>\n",
       "      <th>4</th>\n",
       "      <td>James Wan</td>\n",
       "      <td>3</td>\n",
       "    </tr>\n",
       "  </tbody>\n",
       "</table>\n",
       "</div>"
      ],
      "text/plain": [
       "           director  movies_exp_cnt\n",
       "0   Colin Trevorrow               1\n",
       "1     George Miller               3\n",
       "2  Robert Schwentke               3\n",
       "3       J.J. Abrams               5\n",
       "4         James Wan               3"
      ]
     },
     "execution_count": 337,
     "metadata": {},
     "output_type": "execute_result"
    }
   ],
   "source": [
    "directors_exp_df = pd.DataFrame.from_dict(directors_exp, orient = 'index').reset_index()\n",
    "directors_exp_df = directors_exp_df.rename(columns={'index':'director', 0:'movies_exp_cnt'})\n",
    "directors_exp_df.head() "
   ]
  },
  {
   "cell_type": "code",
   "execution_count": 341,
   "metadata": {},
   "outputs": [],
   "source": [
    "joined = directors_df.merge(directors_exp_df, on='director', how='left')\n",
    "joined['share']  = joined['movies_exp_cnt'] / joined['movies_cnt']\n",
    "#joined.sort_values(by = 'share', ascending = False).head(1)"
   ]
  },
  {
   "cell_type": "code",
   "execution_count": 344,
   "metadata": {},
   "outputs": [],
   "source": [
    "z = joined[joined['share'] >= 1]"
   ]
  },
  {
   "cell_type": "code",
   "execution_count": 346,
   "metadata": {},
   "outputs": [
    {
     "data": {
      "text/html": [
       "<div>\n",
       "<style>\n",
       "    .dataframe thead tr:only-child th {\n",
       "        text-align: right;\n",
       "    }\n",
       "\n",
       "    .dataframe thead th {\n",
       "        text-align: left;\n",
       "    }\n",
       "\n",
       "    .dataframe tbody tr th {\n",
       "        vertical-align: top;\n",
       "    }\n",
       "</style>\n",
       "<table border=\"1\" class=\"dataframe\">\n",
       "  <thead>\n",
       "    <tr style=\"text-align: right;\">\n",
       "      <th></th>\n",
       "      <th>director</th>\n",
       "      <th>movies_cnt</th>\n",
       "      <th>movies_exp_cnt</th>\n",
       "      <th>share</th>\n",
       "    </tr>\n",
       "  </thead>\n",
       "  <tbody>\n",
       "    <tr>\n",
       "      <th>7</th>\n",
       "      <td>Ridley Scott</td>\n",
       "      <td>12</td>\n",
       "      <td>12.0</td>\n",
       "      <td>1.0</td>\n",
       "    </tr>\n",
       "  </tbody>\n",
       "</table>\n",
       "</div>"
      ],
      "text/plain": [
       "       director  movies_cnt  movies_exp_cnt  share\n",
       "7  Ridley Scott          12            12.0    1.0"
      ]
     },
     "execution_count": 346,
     "metadata": {},
     "output_type": "execute_result"
    }
   ],
   "source": [
    "z[z['movies_cnt'] == z['movies_cnt'].max()]"
   ]
  },
  {
   "cell_type": "code",
   "execution_count": 359,
   "metadata": {},
   "outputs": [
    {
     "data": {
      "text/html": [
       "<div>\n",
       "<style>\n",
       "    .dataframe thead tr:only-child th {\n",
       "        text-align: right;\n",
       "    }\n",
       "\n",
       "    .dataframe thead th {\n",
       "        text-align: left;\n",
       "    }\n",
       "\n",
       "    .dataframe tbody tr th {\n",
       "        vertical-align: top;\n",
       "    }\n",
       "</style>\n",
       "<table border=\"1\" class=\"dataframe\">\n",
       "  <thead>\n",
       "    <tr style=\"text-align: right;\">\n",
       "      <th></th>\n",
       "      <th>director</th>\n",
       "      <th>movies_cnt</th>\n",
       "      <th>movies_exp_cnt</th>\n",
       "      <th>share</th>\n",
       "    </tr>\n",
       "  </thead>\n",
       "  <tbody>\n",
       "    <tr>\n",
       "      <th>122</th>\n",
       "      <td>Christopher Nolan</td>\n",
       "      <td>8</td>\n",
       "      <td>8.0</td>\n",
       "      <td>1.0</td>\n",
       "    </tr>\n",
       "  </tbody>\n",
       "</table>\n",
       "</div>"
      ],
      "text/plain": [
       "              director  movies_cnt  movies_exp_cnt  share\n",
       "122  Christopher Nolan           8             8.0    1.0"
      ]
     },
     "execution_count": 359,
     "metadata": {},
     "output_type": "execute_result"
    }
   ],
   "source": [
    "z[(z['director'] == 'Quentin Tarantino' ) | (z['director'] == 'Steven Soderbergh') | \\\n",
    "  (z['director'] == 'Robert Rodriguez' )  | (z['director'] == 'Christopher Nolan' ) | \\\n",
    "  (z['director'] == 'Clint Eastwood' ) ]\n"
   ]
  }
 ],
 "metadata": {
  "kernelspec": {
   "display_name": "Python 3",
   "language": "python",
   "name": "python3"
  },
  "language_info": {
   "codemirror_mode": {
    "name": "ipython",
    "version": 3
   },
   "file_extension": ".py",
   "mimetype": "text/x-python",
   "name": "python",
   "nbconvert_exporter": "python",
   "pygments_lexer": "ipython3",
   "version": "3.6.3"
  }
 },
 "nbformat": 4,
 "nbformat_minor": 2
}
